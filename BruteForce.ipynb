{
 "cells": [
  {
   "cell_type": "code",
   "execution_count": 4,
   "metadata": {},
   "outputs": [],
   "source": [
    "import sqlite3\n",
    "\n",
    "# Conectar-se ao banco de dados\n",
    "conn = sqlite3.connect('db.sqlite3')  # Substitua pelo caminho real do seu banco\n",
    "\n",
    "# Criar um cursor\n",
    "cursor = conn.cursor()\n",
    "\n",
    "# Atualizar o campo UUID da tabela\n",
    "update_sql = \"UPDATE core_movie SET uuid = REPLACE(uuid, '-', '');\"\n",
    "cursor.execute(update_sql)\n",
    "\n",
    "# Confirmar a transação\n",
    "conn.commit()\n",
    "\n",
    "# Fechar a conexão\n",
    "conn.close()\n"
   ]
  }
 ],
 "metadata": {
  "kernelspec": {
   "display_name": "Python 3",
   "language": "python",
   "name": "python3"
  },
  "language_info": {
   "codemirror_mode": {
    "name": "ipython",
    "version": 3
   },
   "file_extension": ".py",
   "mimetype": "text/x-python",
   "name": "python",
   "nbconvert_exporter": "python",
   "pygments_lexer": "ipython3",
   "version": "3.10.7"
  },
  "orig_nbformat": 4
 },
 "nbformat": 4,
 "nbformat_minor": 2
}
